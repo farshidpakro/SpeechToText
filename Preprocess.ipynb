{
 "cells": [
  {
   "cell_type": "code",
   "execution_count": 3,
   "metadata": {},
   "outputs": [],
   "source": [
    "import pandas as pd\n",
    "import numpy as np\n",
    "import tensorflow as tf\n",
    "from tensorflow import keras\n",
    "import matplotlib.pyplot as plt\n",
    "from IPython import display\n",
    "from jiwer import  wer"
   ]
  },
  {
   "cell_type": "code",
   "execution_count": 1,
   "metadata": {},
   "outputs": [
    {
     "data": {
      "text/plain": [
       "'./Dataset/LJSpeech-1.1/wavs/'"
      ]
     },
     "execution_count": 1,
     "metadata": {},
     "output_type": "execute_result"
    }
   ],
   "source": [
    "wave_path = \"./Dataset/LJSpeech-1.1/wavs/\"\n",
    "metadata_path = \"./Dataset/LJSpeech-1.1/metadata.csv\"\n",
    "wave_path"
   ]
  },
  {
   "cell_type": "code",
   "execution_count": 23,
   "metadata": {},
   "outputs": [
    {
     "data": {
      "text/html": [
       "<div>\n",
       "<style scoped>\n",
       "    .dataframe tbody tr th:only-of-type {\n",
       "        vertical-align: middle;\n",
       "    }\n",
       "\n",
       "    .dataframe tbody tr th {\n",
       "        vertical-align: top;\n",
       "    }\n",
       "\n",
       "    .dataframe thead th {\n",
       "        text-align: right;\n",
       "    }\n",
       "</style>\n",
       "<table border=\"1\" class=\"dataframe\">\n",
       "  <thead>\n",
       "    <tr style=\"text-align: right;\">\n",
       "      <th></th>\n",
       "      <th>0</th>\n",
       "      <th>1</th>\n",
       "      <th>2</th>\n",
       "    </tr>\n",
       "  </thead>\n",
       "  <tbody>\n",
       "    <tr>\n",
       "      <th>0</th>\n",
       "      <td>LJ001-0001</td>\n",
       "      <td>Printing, in the only sense with which we are ...</td>\n",
       "      <td>Printing, in the only sense with which we are ...</td>\n",
       "    </tr>\n",
       "    <tr>\n",
       "      <th>1</th>\n",
       "      <td>LJ001-0002</td>\n",
       "      <td>in being comparatively modern.</td>\n",
       "      <td>in being comparatively modern.</td>\n",
       "    </tr>\n",
       "    <tr>\n",
       "      <th>2</th>\n",
       "      <td>LJ001-0003</td>\n",
       "      <td>For although the Chinese took impressions from...</td>\n",
       "      <td>For although the Chinese took impressions from...</td>\n",
       "    </tr>\n",
       "    <tr>\n",
       "      <th>3</th>\n",
       "      <td>LJ001-0004</td>\n",
       "      <td>produced the block books, which were the immed...</td>\n",
       "      <td>produced the block books, which were the immed...</td>\n",
       "    </tr>\n",
       "    <tr>\n",
       "      <th>4</th>\n",
       "      <td>LJ001-0005</td>\n",
       "      <td>the invention of movable metal letters in the ...</td>\n",
       "      <td>the invention of movable metal letters in the ...</td>\n",
       "    </tr>\n",
       "    <tr>\n",
       "      <th>5</th>\n",
       "      <td>LJ001-0006</td>\n",
       "      <td>And it is worth mention in passing that, as an...</td>\n",
       "      <td>And it is worth mention in passing that, as an...</td>\n",
       "    </tr>\n",
       "    <tr>\n",
       "      <th>6</th>\n",
       "      <td>LJ001-0007</td>\n",
       "      <td>the earliest book printed with movable types, ...</td>\n",
       "      <td>the earliest book printed with movable types, ...</td>\n",
       "    </tr>\n",
       "    <tr>\n",
       "      <th>7</th>\n",
       "      <td>LJ001-0008</td>\n",
       "      <td>has never been surpassed.</td>\n",
       "      <td>has never been surpassed.</td>\n",
       "    </tr>\n",
       "    <tr>\n",
       "      <th>8</th>\n",
       "      <td>LJ001-0009</td>\n",
       "      <td>Printing, then, for our purpose, may be consid...</td>\n",
       "      <td>Printing, then, for our purpose, may be consid...</td>\n",
       "    </tr>\n",
       "    <tr>\n",
       "      <th>9</th>\n",
       "      <td>LJ001-0010</td>\n",
       "      <td>Now, as all books not primarily intended as pi...</td>\n",
       "      <td>Now, as all books not primarily intended as pi...</td>\n",
       "    </tr>\n",
       "  </tbody>\n",
       "</table>\n",
       "</div>"
      ],
      "text/plain": [
       "            0  ...                                                  2\n",
       "0  LJ001-0001  ...  Printing, in the only sense with which we are ...\n",
       "1  LJ001-0002  ...                     in being comparatively modern.\n",
       "2  LJ001-0003  ...  For although the Chinese took impressions from...\n",
       "3  LJ001-0004  ...  produced the block books, which were the immed...\n",
       "4  LJ001-0005  ...  the invention of movable metal letters in the ...\n",
       "5  LJ001-0006  ...  And it is worth mention in passing that, as an...\n",
       "6  LJ001-0007  ...  the earliest book printed with movable types, ...\n",
       "7  LJ001-0008  ...                          has never been surpassed.\n",
       "8  LJ001-0009  ...  Printing, then, for our purpose, may be consid...\n",
       "9  LJ001-0010  ...  Now, as all books not primarily intended as pi...\n",
       "\n",
       "[10 rows x 3 columns]"
      ]
     },
     "execution_count": 23,
     "metadata": {},
     "output_type": "execute_result"
    }
   ],
   "source": [
    "metadate_df = pd.read_csv(metadata_path, sep=\"|\" , header= None,quoting=3)\n",
    "metadate_df.head(10)"
   ]
  },
  {
   "cell_type": "code",
   "execution_count": 24,
   "metadata": {},
   "outputs": [
    {
     "data": {
      "text/html": [
       "<div>\n",
       "<style scoped>\n",
       "    .dataframe tbody tr th:only-of-type {\n",
       "        vertical-align: middle;\n",
       "    }\n",
       "\n",
       "    .dataframe tbody tr th {\n",
       "        vertical-align: top;\n",
       "    }\n",
       "\n",
       "    .dataframe thead th {\n",
       "        text-align: right;\n",
       "    }\n",
       "</style>\n",
       "<table border=\"1\" class=\"dataframe\">\n",
       "  <thead>\n",
       "    <tr style=\"text-align: right;\">\n",
       "      <th></th>\n",
       "      <th>ID</th>\n",
       "      <th>Normalized_Transcription</th>\n",
       "    </tr>\n",
       "  </thead>\n",
       "  <tbody>\n",
       "    <tr>\n",
       "      <th>0</th>\n",
       "      <td>LJ001-0001</td>\n",
       "      <td>Printing, in the only sense with which we are ...</td>\n",
       "    </tr>\n",
       "    <tr>\n",
       "      <th>1</th>\n",
       "      <td>LJ001-0002</td>\n",
       "      <td>in being comparatively modern.</td>\n",
       "    </tr>\n",
       "    <tr>\n",
       "      <th>2</th>\n",
       "      <td>LJ001-0003</td>\n",
       "      <td>For although the Chinese took impressions from...</td>\n",
       "    </tr>\n",
       "    <tr>\n",
       "      <th>3</th>\n",
       "      <td>LJ001-0004</td>\n",
       "      <td>produced the block books, which were the immed...</td>\n",
       "    </tr>\n",
       "    <tr>\n",
       "      <th>4</th>\n",
       "      <td>LJ001-0005</td>\n",
       "      <td>the invention of movable metal letters in the ...</td>\n",
       "    </tr>\n",
       "    <tr>\n",
       "      <th>5</th>\n",
       "      <td>LJ001-0006</td>\n",
       "      <td>And it is worth mention in passing that, as an...</td>\n",
       "    </tr>\n",
       "    <tr>\n",
       "      <th>6</th>\n",
       "      <td>LJ001-0007</td>\n",
       "      <td>the earliest book printed with movable types, ...</td>\n",
       "    </tr>\n",
       "    <tr>\n",
       "      <th>7</th>\n",
       "      <td>LJ001-0008</td>\n",
       "      <td>has never been surpassed.</td>\n",
       "    </tr>\n",
       "    <tr>\n",
       "      <th>8</th>\n",
       "      <td>LJ001-0009</td>\n",
       "      <td>Printing, then, for our purpose, may be consid...</td>\n",
       "    </tr>\n",
       "    <tr>\n",
       "      <th>9</th>\n",
       "      <td>LJ001-0010</td>\n",
       "      <td>Now, as all books not primarily intended as pi...</td>\n",
       "    </tr>\n",
       "  </tbody>\n",
       "</table>\n",
       "</div>"
      ],
      "text/plain": [
       "           ID                           Normalized_Transcription\n",
       "0  LJ001-0001  Printing, in the only sense with which we are ...\n",
       "1  LJ001-0002                     in being comparatively modern.\n",
       "2  LJ001-0003  For although the Chinese took impressions from...\n",
       "3  LJ001-0004  produced the block books, which were the immed...\n",
       "4  LJ001-0005  the invention of movable metal letters in the ...\n",
       "5  LJ001-0006  And it is worth mention in passing that, as an...\n",
       "6  LJ001-0007  the earliest book printed with movable types, ...\n",
       "7  LJ001-0008                          has never been surpassed.\n",
       "8  LJ001-0009  Printing, then, for our purpose, may be consid...\n",
       "9  LJ001-0010  Now, as all books not primarily intended as pi..."
      ]
     },
     "execution_count": 24,
     "metadata": {},
     "output_type": "execute_result"
    }
   ],
   "source": [
    "metadate_df.columns = [\"ID\", \"Transcription\",\"Normalized_Transcription\"]\n",
    "metadate_df = metadate_df[[\"ID\",\"Normalized_Transcription\"]]\n",
    "#metadate_df = metadate_df.sample(frac=1).reset_index(drop=True)\n",
    "metadate_df.head(10)"
   ]
  },
  {
   "cell_type": "code",
   "execution_count": 27,
   "metadata": {},
   "outputs": [
    {
     "data": {
      "text/plain": [
       "7598    the rest who did not see it kept at their post...\n",
       "816     The committee seems to have fully realized, ev...\n",
       "4053    His health improved, but was still indifferent...\n",
       "Name: Normalized_Transcription, dtype: object"
      ]
     },
     "execution_count": 27,
     "metadata": {},
     "output_type": "execute_result"
    }
   ],
   "source": [
    "from sklearn.model_selection import train_test_split\n",
    "\n",
    "X_train, X_test, y_train, y_test = train_test_split(metadate_df[\"ID\"] ,metadate_df[\"Normalized_Transcription\"] , train_size=0.8)\n",
    "y_train.head(3)"
   ]
  }
 ],
 "metadata": {
  "kernelspec": {
   "display_name": "Python 3",
   "language": "python",
   "name": "python3"
  },
  "language_info": {
   "codemirror_mode": {
    "name": "ipython",
    "version": 3
   },
   "file_extension": ".py",
   "mimetype": "text/x-python",
   "name": "python",
   "nbconvert_exporter": "python",
   "pygments_lexer": "ipython3",
   "version": "3.11.4"
  }
 },
 "nbformat": 4,
 "nbformat_minor": 2
}
